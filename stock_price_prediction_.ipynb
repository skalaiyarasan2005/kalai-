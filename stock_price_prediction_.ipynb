{
  "nbformat": 4,
  "nbformat_minor": 0,
  "metadata": {
    "colab": {
      "provenance": []
    },
    "kernelspec": {
      "name": "python3",
      "display_name": "Python 3"
    },
    "language_info": {
      "name": "python"
    }
  },
  "cells": [
    {
      "cell_type": "code",
      "execution_count": 2,
      "metadata": {
        "colab": {
          "base_uri": "https://localhost:8080/"
        },
        "id": "RkWtdU8zUsl5",
        "outputId": "a8fb8719-6c3b-4684-b3ce-5b24bbd51a8d"
      },
      "outputs": [
        {
          "output_type": "stream",
          "name": "stdout",
          "text": [
            "Error: 'studytime' or 'G3' column not found in the DataFrame.\n"
          ]
        }
      ],
      "source": [
        "import pandas as pd\n",
        "from sklearn.model_selection import train_test_split\n",
        "from sklearn.preprocessing import StandardScaler\n",
        "from sklearn.linear_model import LinearRegression\n",
        "from sklearn.metrics import mean_squared_error, r2_score\n",
        "import seaborn as sns\n",
        "import matplotlib.pyplot as plt\n",
        "\n",
        "# Load the dataset\n",
        "# Check if the file path is correct and if the file exists\n",
        "file_path = '/content/Google 2020-2025 Stock Market.csv'  # Replace with the actual file path\n",
        "try:\n",
        "    df = pd.read_csv(file_path, sep=';')\n",
        "except FileNotFoundError:\n",
        "    print(f\"Error: File not found at '{file_path}'. Please check the file path and ensure the file exists.\")\n",
        "    # Handle the error appropriately, e.g., exit or skip the plot\n",
        "    # ...\n",
        "# ... (rest of your code)\n",
        "\n",
        "# Before creating the boxplot, check if the required columns exist\n",
        "if 'studytime' in df.columns and 'G3' in df.columns:\n",
        "    sns.boxplot(x='studytime', y='G3', data=df)\n",
        "    plt.title('Study Time vs Final Grade')\n",
        "    plt.show()\n",
        "else:\n",
        "    print(\"Error: 'studytime' or 'G3' column not found in the DataFrame.\")\n",
        "    # Handle the error appropriately, e.g., exit or skip the plot\n",
        "    # ..."
      ]
    }
  ]
}